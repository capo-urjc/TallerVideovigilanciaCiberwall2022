{
 "cells": [
  {
   "cell_type": "markdown",
   "metadata": {
    "pycharm": {
     "name": "#%% md\n"
    }
   },
   "source": [
    "# Detección de armas y otros objetos de interés a partir de vídeo"
   ]
  },
  {
   "cell_type": "markdown",
   "metadata": {
    "pycharm": {
     "name": "#%% md\n"
    }
   },
   "source": [
    "## Cargar librerías"
   ]
  },
  {
   "cell_type": "code",
   "execution_count": 20,
   "metadata": {
    "pycharm": {
     "name": "#%%\n"
    }
   },
   "outputs": [],
   "source": [
    "import numpy as np\n",
    "import cv2\n",
    "import ipywidgets\n",
    "import torch\n",
    "import models\n",
    "import utils\n",
    "import numpy as np\n",
    "import PIL.Image\n",
    "import io\n",
    "from ipywebrtc import ImageRecorder, CameraStream, VideoRecorder, VideoStream"
   ]
  },
  {
   "cell_type": "markdown",
   "metadata": {
    "pycharm": {
     "name": "#%% md\n"
    }
   },
   "source": [
    "## Cargar la red YOLOv5 entrenada con el dataset de armas"
   ]
  },
  {
   "cell_type": "code",
   "execution_count": 21,
   "metadata": {
    "pycharm": {
     "name": "#%%\n"
    }
   },
   "outputs": [
    {
     "name": "stderr",
     "output_type": "stream",
     "text": [
      "YOLOv5 🚀 7dde989 Python-3.8.13 torch-1.11.0+cu102 CUDA:0 (NVIDIA GeForce GTX 1650 Ti with Max-Q Design, 3912MiB)\n",
      "\n",
      "Fusing layers... \n",
      "Model summary: 213 layers, 1767283 parameters, 0 gradients\n",
      "Adding AutoShape... \n"
     ]
    }
   ],
   "source": [
    "# Cargar modelo\n",
    "yolov5 = torch.hub.load('.', 'custom', path='weights/best.pt', source='local', force_reload=True)"
   ]
  },
  {
   "cell_type": "markdown",
   "metadata": {
    "pycharm": {
     "name": "#%% md\n"
    }
   },
   "source": [
    "## Preparar el vídeo y barra deslizante"
   ]
  },
  {
   "cell_type": "code",
   "execution_count": 23,
   "metadata": {
    "pycharm": {
     "name": "#%%\n"
    }
   },
   "outputs": [
    {
     "data": {
      "application/vnd.jupyter.widget-view+json": {
       "model_id": "8efaef169ecd4209b97cfe488cb6f9f6",
       "version_major": 2,
       "version_minor": 0
      },
      "text/plain": [
       "VideoStream(video=Video(value=b'\\x00\\x00\\x00 ftypisom\\x00\\x00\\x02\\x00isomiso2avc1mp41\\x00\\x00\\x16Ymoov\\x00\\x00…"
      ]
     },
     "metadata": {},
     "output_type": "display_data"
    }
   ],
   "source": [
    "# Acceder al video\n",
    "video = VideoStream.from_file('videos/knife.mp4')\n",
    "image_recorder = ImageRecorder(stream=video)\n",
    "image_recorder.autosave = False\n",
    "image_recorder.download()\n",
    "video"
   ]
  },
  {
   "cell_type": "code",
   "execution_count": 6,
   "metadata": {
    "pycharm": {
     "name": "#%%\n"
    }
   },
   "outputs": [],
   "source": [
    "# Colores aleatorios para cada clase\n",
    "np.random.seed(42)\n",
    "colors = np.random.randint(0, 255, (6, 3), dtype=np.uint8)\n",
    "\n",
    "# Barra deslizante\n",
    "slider = ipywidgets.FloatSlider(\n",
    "    value=0.3,\n",
    "    min=0,\n",
    "    max=1.0,\n",
    "    step=0.05,\n",
    "    description='Confianza:',\n",
    "    disabled=False,\n",
    "    continuous_update=True,\n",
    "    orientation='vertical',\n",
    "    readout=True,\n",
    "    readout_format='.2f',\n",
    ")"
   ]
  },
  {
   "cell_type": "markdown",
   "metadata": {
    "pycharm": {
     "name": "#%% md\n"
    }
   },
   "source": [
    "## Procesamiento de imagen: Aplicar YOLOv5 y pintar detecciones"
   ]
  },
  {
   "cell_type": "code",
   "execution_count": 7,
   "metadata": {
    "pycharm": {
     "name": "#%%\n"
    }
   },
   "outputs": [],
   "source": [
    "out = ipywidgets.Image()\n",
    "\n",
    "# Función de procesado de imagen\n",
    "def process_image(_):\n",
    "    \n",
    "    # Carga la imagen desde image_recorder\n",
    "    im = PIL.Image.open(io.BytesIO(image_recorder.image.value))\n",
    "    frame = np.array(im)[...,:3].astype(np.uint8)\n",
    "    \n",
    "    \n",
    "    # Procesa la imagen en la red YOLOv5\n",
    "    results = yolov5(frame)\n",
    "    \n",
    "    \n",
    "    # Dibuja los rectángulos de las detecciones resultantes de la red\n",
    "    for index, row in results.pandas().xyxy[0].iterrows():\n",
    "        x1 = int(row['xmin'])\n",
    "        x2 = int(row['xmax'])\n",
    "        y1 = int(row['ymin'])\n",
    "        y2 = int(row['ymax'])\n",
    "        label = '{} {:.1f}'.format(row['name'],row['confidence'])\n",
    "        color = [int(c) for c in colors[int(row['class'])]]\n",
    "\n",
    "        # Caja de la detección\n",
    "        img = cv2.rectangle(frame, (x1, y1), (x2, y2), (color[0],color[1],color[2]), 2)\n",
    "\n",
    "        # Cálculo tamaño texto\n",
    "        (w, h), _ = cv2.getTextSize(\n",
    "            label, cv2.FONT_HERSHEY_SIMPLEX, 0.6, 1)\n",
    "\n",
    "        # Caja de texto\n",
    "        img = cv2.rectangle(img, (x1, y1 - 20), (x1 + w, y1), (color[0],color[1],color[2]), -1)\n",
    "        #img = cv2.putText(img, label, (x1, y1 - 5),\n",
    "        #                  cv2.FONT_HERSHEY_SIMPLEX, 0.6, (0,0,0), 1)\n",
    "\n",
    "        # Escribir clase\n",
    "        img = cv2.putText(img, label, (x1, y1),\n",
    "                          cv2.FONT_HERSHEY_SIMPLEX, 0.6, (255, 255, 255), 1)\n",
    "    \n",
    "    \n",
    "    # Devuelve la imagen al formato adecuado para poder mostrarla\n",
    "    f = io.BytesIO()\n",
    "    PIL.Image.fromarray(frame).save(f, format='png')\n",
    "    out.value = f.getvalue()\n",
    "\n",
    "# Aplica la función de procesar imagen repetidamente\n",
    "def process_video(_):\n",
    "    if stop_process:\n",
    "        return\n",
    "    process_image(_)\n",
    "    image_recorder.recording = True"
   ]
  },
  {
   "cell_type": "code",
   "execution_count": 8,
   "metadata": {
    "pycharm": {
     "name": "#%%\n"
    }
   },
   "outputs": [],
   "source": [
    "# Función de barra deslizante\n",
    "def handle_slider(_):\n",
    "    yolov5.conf = slider.value # Cambia la confianza de la red YOLOv5 en función de la posición del slider\n",
    "    process_image(_)    \n",
    "    \n",
    "\n",
    "# Aplica el manejador a la barra deslizante\n",
    "slider.observe(handle_slider, names='value')"
   ]
  },
  {
   "cell_type": "markdown",
   "metadata": {
    "pycharm": {
     "name": "#%% md\n"
    }
   },
   "source": [
    "## Ejecutar programa detección de armas a partir de vídeo"
   ]
  },
  {
   "cell_type": "code",
   "execution_count": 18,
   "metadata": {
    "pycharm": {
     "name": "#%%\n"
    }
   },
   "outputs": [
    {
     "data": {
      "application/vnd.jupyter.widget-view+json": {
       "model_id": "044c10e7e22141b8849abc6580d696cc",
       "version_major": 2,
       "version_minor": 0
      },
      "text/plain": [
       "HBox(children=(ImageRecorder(image=Image(value=b''), recording=True, stream=VideoStream(video=Video(value=b'',…"
      ]
     },
     "metadata": {},
     "output_type": "display_data"
    }
   ],
   "source": [
    "stop_process = False\n",
    "image_recorder.image.observe(process_video, names=['value'])\n",
    "image_recorder.recording = True\n",
    "ipywidgets.HBox([image_recorder, out, slider])"
   ]
  },
  {
   "cell_type": "markdown",
   "source": [
    "## Cambiar video"
   ],
   "metadata": {
    "collapsed": false,
    "pycharm": {
     "name": "#%% md\n"
    }
   }
  },
  {
   "cell_type": "code",
   "execution_count": null,
   "outputs": [],
   "source": [
    "#video = VideoStream.from_file('videos/knife.mp4')\n",
    "video = VideoStream.from_file('videos/knife-gun.mp4')\n",
    "image_recorder = ImageRecorder(stream=video)"
   ],
   "metadata": {
    "collapsed": false,
    "pycharm": {
     "name": "#%%\n"
    }
   }
  },
  {
   "cell_type": "markdown",
   "metadata": {
    "pycharm": {
     "name": "#%% md\n"
    }
   },
   "source": [
    "### Parar ejecución vídeo"
   ]
  },
  {
   "cell_type": "code",
   "execution_count": null,
   "metadata": {
    "pycharm": {
     "name": "#%%\n"
    }
   },
   "outputs": [],
   "source": [
    "stop_process = True"
   ]
  }
 ],
 "metadata": {
  "kernelspec": {
   "display_name": "Python 3 (ipykernel)",
   "language": "python",
   "name": "python3"
  },
  "language_info": {
   "codemirror_mode": {
    "name": "ipython",
    "version": 3
   },
   "file_extension": ".py",
   "mimetype": "text/x-python",
   "name": "python",
   "nbconvert_exporter": "python",
   "pygments_lexer": "ipython3",
   "version": "3.8.13"
  }
 },
 "nbformat": 4,
 "nbformat_minor": 1
}